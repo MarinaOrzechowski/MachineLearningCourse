{
 "cells": [
  {
   "cell_type": "markdown",
   "metadata": {},
   "source": [
    "<center><h1>Assignment 4</h1>\n",
    "<h2> Support Vector Machine </h2>\n",
    "<br>\n",
    "<p>Apply the Scikit Learn SVM Classifier to the Iris dataset using all three categories and all four features at once.\n",
    "<br>Run the SVM model (at least) four times using a different kernel each time. Compare and discuss the results for each of the kernels.</p></center>"
   ]
  },
  {
   "cell_type": "code",
   "execution_count": 56,
   "metadata": {},
   "outputs": [],
   "source": [
    "import numpy as np\n",
    "import pandas as pd\n",
    "\n",
    "import matplotlib.pyplot as plt \n",
    "%matplotlib inline\n",
    "\n",
    "from sklearn.model_selection import train_test_split, cross_val_score\n",
    "from sklearn import svm\n",
    "from sklearn import metrics\n",
    "from sklearn.preprocessing import MinMaxScaler\n"
   ]
  },
  {
   "cell_type": "code",
   "execution_count": 57,
   "metadata": {},
   "outputs": [],
   "source": [
    "# read Iris data set\n",
    "iris = pd.read_csv('https://archive.ics.uci.edu/ml/machine-learning-databases/iris/iris.data', header = None)"
   ]
  },
  {
   "cell_type": "code",
   "execution_count": 58,
   "metadata": {},
   "outputs": [
    {
     "data": {
      "text/html": [
       "<div>\n",
       "<style scoped>\n",
       "    .dataframe tbody tr th:only-of-type {\n",
       "        vertical-align: middle;\n",
       "    }\n",
       "\n",
       "    .dataframe tbody tr th {\n",
       "        vertical-align: top;\n",
       "    }\n",
       "\n",
       "    .dataframe thead th {\n",
       "        text-align: right;\n",
       "    }\n",
       "</style>\n",
       "<table border=\"1\" class=\"dataframe\">\n",
       "  <thead>\n",
       "    <tr style=\"text-align: right;\">\n",
       "      <th></th>\n",
       "      <th>sepal_length</th>\n",
       "      <th>sepal_width</th>\n",
       "      <th>petal_length</th>\n",
       "      <th>petal_width</th>\n",
       "      <th>species</th>\n",
       "    </tr>\n",
       "  </thead>\n",
       "  <tbody>\n",
       "    <tr>\n",
       "      <th>0</th>\n",
       "      <td>5.1</td>\n",
       "      <td>3.5</td>\n",
       "      <td>1.4</td>\n",
       "      <td>0.2</td>\n",
       "      <td>Iris-setosa</td>\n",
       "    </tr>\n",
       "    <tr>\n",
       "      <th>1</th>\n",
       "      <td>4.9</td>\n",
       "      <td>3.0</td>\n",
       "      <td>1.4</td>\n",
       "      <td>0.2</td>\n",
       "      <td>Iris-setosa</td>\n",
       "    </tr>\n",
       "    <tr>\n",
       "      <th>2</th>\n",
       "      <td>4.7</td>\n",
       "      <td>3.2</td>\n",
       "      <td>1.3</td>\n",
       "      <td>0.2</td>\n",
       "      <td>Iris-setosa</td>\n",
       "    </tr>\n",
       "    <tr>\n",
       "      <th>3</th>\n",
       "      <td>4.6</td>\n",
       "      <td>3.1</td>\n",
       "      <td>1.5</td>\n",
       "      <td>0.2</td>\n",
       "      <td>Iris-setosa</td>\n",
       "    </tr>\n",
       "    <tr>\n",
       "      <th>4</th>\n",
       "      <td>5.0</td>\n",
       "      <td>3.6</td>\n",
       "      <td>1.4</td>\n",
       "      <td>0.2</td>\n",
       "      <td>Iris-setosa</td>\n",
       "    </tr>\n",
       "  </tbody>\n",
       "</table>\n",
       "</div>"
      ],
      "text/plain": [
       "   sepal_length  sepal_width  petal_length  petal_width      species\n",
       "0           5.1          3.5           1.4          0.2  Iris-setosa\n",
       "1           4.9          3.0           1.4          0.2  Iris-setosa\n",
       "2           4.7          3.2           1.3          0.2  Iris-setosa\n",
       "3           4.6          3.1           1.5          0.2  Iris-setosa\n",
       "4           5.0          3.6           1.4          0.2  Iris-setosa"
      ]
     },
     "execution_count": 58,
     "metadata": {},
     "output_type": "execute_result"
    }
   ],
   "source": [
    "# currently iris has columns names '0'-'4'. We want meaningful names,\n",
    "# so we will change it.\n",
    "iris.columns = ['sepal_length', 'sepal_width', 'petal_length', 'petal_width', 'species']\n",
    "iris.head()"
   ]
  },
  {
   "cell_type": "markdown",
   "metadata": {},
   "source": [
    "<h3>Split data into training and testing sets</h3>"
   ]
  },
  {
   "cell_type": "code",
   "execution_count": 82,
   "metadata": {},
   "outputs": [],
   "source": [
    "# features: everything except the 'species' column\n",
    "X = iris.drop('species', axis = 1)\n",
    "\n",
    "# what are we trying to predict?\n",
    "y = iris['species']\n",
    "\n",
    "#split data. We will use 30% of data to train the model and 70% to test it\n",
    "X_train, X_test, y_train, y_test = train_test_split(X, y, test_size = 0.6, random_state=20)"
   ]
  },
  {
   "cell_type": "markdown",
   "metadata": {},
   "source": [
    "<h3> Scaling data</h3>\n",
    "<p>According to the https://scikit-learn.org/ \"it is highly recommended to scale your data\" because Support Vector Machine algorithms are not scale invariant. Main purpose of scaling data before processing is to avoid attributes in greater numeric ranges. Iris data doesn't really have attributes in greater numeric ranges, so probably we could skip scaling. We did it for sake of practicing.</p>"
   ]
  },
  {
   "cell_type": "code",
   "execution_count": 83,
   "metadata": {},
   "outputs": [],
   "source": [
    "# We scale the data in the range [-1,1]\n",
    "scaling = MinMaxScaler(feature_range=(-1, 1)).fit(X_train)\n",
    "X_train = scaling.transform(X_train)\n",
    "X_test = scaling.transform(X_test)"
   ]
  },
  {
   "cell_type": "markdown",
   "metadata": {},
   "source": [
    "<h3>Train a model</h3>\n",
    "<p> We will check how using different kernels influences accuracy of the model. We will consider Radial Basis Function kernel, linear kernel, polynomial of degrees 2,3, and sigmoid kernel.</p>"
   ]
  },
  {
   "cell_type": "code",
   "execution_count": 93,
   "metadata": {},
   "outputs": [],
   "source": [
    "models = (svm.SVC(kernel='rbf'),\n",
    "          svm.SVC(kernel='sigmoid'),\n",
    "          svm.SVC(kernel='poly', degree=2, gamma='auto'),\n",
    "          svm.SVC(kernel='poly', degree=3, gamma='auto'),\n",
    "          svm.SVC(kernel='linear'))\n",
    "\n",
    "titles = ['rbf',\n",
    "          'sigmoid',\n",
    "          'poly (deg.2)',\n",
    "          'poly (deg.3)',\n",
    "          'linear']\n"
   ]
  },
  {
   "cell_type": "markdown",
   "metadata": {},
   "source": [
    "<h3> Cross-validation </h3>\n",
    "<p> In order to avoid overfitting, another part of the dataset can be held out as a “validation set”, which reduces number of samples which can be used for learning the model. That is why we can use k-fold cross-validation. This can be computationally expensive, but solves the problem of reducing samples number, which is important for a small data set like Iris.</p>"
   ]
  },
  {
   "cell_type": "code",
   "execution_count": 104,
   "metadata": {},
   "outputs": [
    {
     "name": "stdout",
     "output_type": "stream",
     "text": [
      "\u001b[1mKernel                                  CV accuracy score   Test accuracy score \u001b[0;0m\n",
      "\n",
      "rbf                                       0.933333            0.966667\n",
      "sigmoid                                   0.950000            0.955556\n",
      "poly (deg.2)                              0.666667            0.588889\n",
      "poly (deg.3)                              0.750000            0.611111\n",
      "linear                                    0.933333            0.966667\n"
     ]
    },
    {
     "data": {
      "text/plain": [
       "([<matplotlib.axis.XTick at 0x1635d23f3c8>,\n",
       "  <matplotlib.axis.XTick at 0x1635d239548>,\n",
       "  <matplotlib.axis.XTick at 0x1635d233608>,\n",
       "  <matplotlib.axis.XTick at 0x1635d2732c8>,\n",
       "  <matplotlib.axis.XTick at 0x1635d278a48>],\n",
       " <a list of 5 Text xticklabel objects>)"
      ]
     },
     "execution_count": 104,
     "metadata": {},
     "output_type": "execute_result"
    },
    {
     "data": {
      "image/png": "[encoded data removed]",
      "text/plain": [
       "<Figure size 576x288 with 1 Axes>"
      ]
     },
     "metadata": {
      "needs_background": "light"
     },
     "output_type": "display_data"
    }
   ],
   "source": [
    "# text format \n",
    "bold_start = \"\\033[1m\"\n",
    "bold_end = \"\\033[0;0m\"\n",
    "\n",
    "print(bold_start + \"{:40}{:20}{:20}\".format('Kernel', 'CV accuracy score', 'Test accuracy score') + bold_end+ '\\n')   \n",
    "accuracy = []\n",
    "for i, model in enumerate(models):\n",
    "    cv_performance = cross_val_score(model, X_train, y_train,cv=10)\n",
    "    test_performance = model.fit(X_train, y_train).score(X_test,y_test)\n",
    "    accuracy.append(test_performance)\n",
    "    print (\"{:40}{:10f}{:20f}\".format(titles[i], np.mean(cv_performance),test_performance))\n",
    "    \n",
    "#visualize\n",
    "plt.close('all')\n",
    "fig, ax = plt.subplots(nrows=1, ncols=1, figsize = (8,4))\n",
    "ax.set_xlabel('Kernel')\n",
    "ax.set_ylabel('Test accuracy score')\n",
    "ax.set_title(\"Test accuracy score for different kernels\", fontsize ='medium')\n",
    "y_pos = np.arange(len(titles))\n",
    "ax.bar(y_pos,accuracy, label='train')\n",
    "plt.xticks(y_pos, titles)\n"
   ]
  },
  {
   "cell_type": "markdown",
   "metadata": {},
   "source": [
    "<p> We notice that the models worked out really good except for the polynomial kernels.<br><br>\n",
    "Because the data set is pretty small we can use Gram matrix of all possible inner products of vectors set to find optimal kernel (this information was taken from Udemy Data Science course).</p>"
   ]
  },
  {
   "cell_type": "markdown",
   "metadata": {},
   "source": [
    "<h3>Look for better parameters</h3>\n",
    "We can search for the best combinations of kernels and parameters (like C and gamma) using grid_search.\n",
    "During the search, the code tests different combinations of linear and RBF together with C and gamma parameters. C is important because it controls the cost of misclassification of training data. A large C value gives low bias (because we penalize the cost of misclassification a lot) and large variance, therefore it creates a larger-margin hyperplane.\n",
    "Large Gamma leads to small variance and large bias. A lower value of Gamma will loosely fit the training dataset, whereas a higher value of gamma will exactly fit the training dataset, which causes over-fitting. "
   ]
  },
  {
   "cell_type": "code",
   "execution_count": 111,
   "metadata": {},
   "outputs": [
    {
     "name": "stdout",
     "output_type": "stream",
     "text": [
      "Best parameter: {'C': 10, 'kernel': 'linear'}\n",
      "Cross-validation accuracy score: 0.950, test accuracy score: 0.967\n"
     ]
    }
   ],
   "source": [
    "from sklearn.model_selection import GridSearchCV\n",
    "\n",
    "learning_algo = svm.SVC(kernel='linear', random_state=101)\n",
    "\n",
    "search_space = [{'kernel': ['linear'], 'C': [1, 10, 100, 1000]},\n",
    "                {'kernel': ['rbf'], 'C': [1, 10, 100, 1000], 'gamma': [0, 0.1, 0.01, 0.001, 0.0001]},\n",
    "                {'kernel': ['sigmoid'], 'C': [1, 10, 100, 1000], 'gamma': [0, 0.1, 0.01, 0.001, 0.0001]},\n",
    "                {'kernel': ['poly'], 'C': [1, 10, 100, 1000], 'gamma': [0, 0.1, 0.01, 0.001, 0.0001], 'degree':[1,2,3,4,5]}]\n",
    "\n",
    "gridsearch = GridSearchCV(learning_algo, param_grid=search_space, refit=True, cv=10)\n",
    "gridsearch.fit(X_train,y_train)\n",
    "print ('Best parameter: '+ str(gridsearch.best_params_))\n",
    "\n",
    "cv_performance = gridsearch.best_score_\n",
    "test_performance = gridsearch.score(X_test, y_test)\n",
    "\n",
    "print ('Cross-validation accuracy score: %0.3f,'\n",
    "' test accuracy score: %0.3f'\n",
    "% (cv_performance,test_performance))"
   ]
  },
  {
   "cell_type": "markdown",
   "metadata": {},
   "source": [
    "As a result of best kernel/parameters search we came to the conclusion that linear kernel works the best for this data. However, RBF demonstrates extremely close accuracy."
   ]
  },
  {
   "cell_type": "markdown",
   "metadata": {},
   "source": [
    "<h3> Can we improve poly kernel performance? </h3>\n",
    "We can try to find parameters C, gamma, and degree for polynomial kernel such that they give better accuracy."
   ]
  },
  {
   "cell_type": "code",
   "execution_count": 118,
   "metadata": {},
   "outputs": [
    {
     "name": "stdout",
     "output_type": "stream",
     "text": [
      "Best parameter: {'C': 1000, 'degree': 3, 'gamma': 0.1, 'kernel': 'poly'}\n",
      "\n",
      "\u001b[1mCross-validation accuracy score: 0.933, test accuracy score: 0.933\u001b[0;0m\n"
     ]
    }
   ],
   "source": [
    "learning_algo = svm.SVC(kernel='linear', random_state=101)\n",
    "\n",
    "search_space = [{'kernel': ['poly'], 'C': [1, 10, 100, 1000], \n",
    "                 'gamma': [0, 0.1, 0.01, 0.001, 0.0001], \n",
    "                 'degree':[2,3,4,5]}]\n",
    "\n",
    "gridsearch = GridSearchCV(learning_algo, param_grid=search_space, refit=True, cv=10)\n",
    "gridsearch.fit(X_train,y_train)\n",
    "print ('Best parameter: '+ str(gridsearch.best_params_))\n",
    "\n",
    "cv_performance = gridsearch.best_score_\n",
    "test_performance = gridsearch.score(X_test, y_test)\n",
    "\n",
    "print ('\\n'+ bold_start+'Cross-validation accuracy score: %0.3f,'\n",
    "' test accuracy score: %0.3f'\n",
    "% (cv_performance,test_performance)+bold_end)"
   ]
  },
  {
   "cell_type": "markdown",
   "metadata": {},
   "source": [
    "As a result we got 93.3% test accuracy when gamma is small and C is large. Large Value of parameter C => small margin. Larger C values will take more time to train."
   ]
  },
  {
   "cell_type": "markdown",
   "metadata": {},
   "source": [
    "<h2> Summary </h2><br><br>\n",
    "We analyzed iris data using support vector machine and different kernels.The special capability of kernel functions is to\n",
    "map the original feature space into a new feature space reconstructed to achieve better classification of results. It’s similar to the polynomial expansion principle, but the mathematics behind it require fewer computations, allowing the algorithm to map complex response functions in less time and with more precision (\"Machine Learning for Dummies\" by J.Nueller and L.Massaron).<br><br>\n",
    "We chose to use Radial Basis Function, linear, polynomial of degrees 2 and 3, and sigmoid kernels. As a result, after scaling data, cross-validation, and fitting data we figured that two most effective kernels for this data set are linear and RBF (accuracy 96.7%). Sigmoid function also gave us a good result of 95.5%. However, polynomial functions resulted in a low accuracy of 58.8% fir degree 2, and 61.1% for degree 3.<br><br>\n",
    "After we analyzed models with default parameters, we decided to find out if there are other parameters of C, gamma, and degree which can lead to a better performance. So, we used grid_search and checked combinations of kernels and C, gamma, and degree parameters. Parameter C=10 for linear kernel worked the best for Iris data giving accuracy of 96.7%. So, we were not able to improve already high accuracy.<br><br>\n",
    "However, we tried to improve accuracy of the polynomial kernel models and we again implemented grid_search for only polynomial kernel. As a result we were able to significally improve accuracy from 61.1% to 93.3% for polynomial of degree 3. We were able to get this result by using C = 100 and gamma = 0.1. \n",
    "Large Value of parameter C => small margin. Larger C values will take more time to train."
   ]
  }
 ],
 "metadata": {
  "kernelspec": {
   "display_name": "Python 3",
   "language": "python",
   "name": "python3"
  },
  "language_info": {
   "codemirror_mode": {
    "name": "ipython",
    "version": 3
   },
   "file_extension": ".py",
   "mimetype": "text/x-python",
   "name": "python",
   "nbconvert_exporter": "python",
   "pygments_lexer": "ipython3",
   "version": "3.7.6"
  }
 },
 "nbformat": 4,
 "nbformat_minor": 4
}
